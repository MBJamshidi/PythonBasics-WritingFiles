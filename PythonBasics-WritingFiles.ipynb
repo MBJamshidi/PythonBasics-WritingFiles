{
 "cells": [
  {
   "cell_type": "code",
   "execution_count": 1,
   "metadata": {},
   "outputs": [
    {
     "name": "stdout",
     "output_type": "stream",
     "text": [
      "((Use slash instead of backslash))((Use slash instead of backslash))((Use slash instead of backslash))\n",
      "This is line BBBBBBBBBBB which is written by MBJamshidi\n",
      "\n",
      "This is line AAAAAAAAAAA which is written by MBJamshidi\n",
      "This is line BBBBBBBBBBB which is written by MBJamshidi\n",
      "This is line CCCCCCCCCCC which is written by MBJamshidi\n",
      "This is line DDDDDDDDDDD which is written by MBJamshidi\n",
      "This is line EEEEEEEEEEE which is written by MBJamshidi\n",
      "This is line FFFFFFFFFFF which is written by MBJamshidi\n",
      "This is line GGGGGGGGGGG which is written by MBJamshidi\n",
      "\n"
     ]
    }
   ],
   "source": [
    "#Basics Python\n",
    "#Writing files\n",
    "#We can write to files using the open function\n",
    "\n",
    "#We can create the file WritingExample.txt\n",
    "\n",
    "#method 1\n",
    "print(\"((Use slash instead of backslash))\"*3)\n",
    "\n",
    "Filew1=open(\"C:/Users/VAIO/Desktop/MyDjango/WritingExample1.txt\", \"w\")\n",
    "\n",
    "Filew1.close()\n",
    "Filew2=open(\"WritingExample2.txt\", \"w\")\n",
    "#this file is saved in the directory which the Jupyter notebook has been saved\n",
    "Filew2.write(\"This is line BBBBBBBBBBB which is written by MBJamshidi\\n\")\n",
    "Filew2.close()\n",
    "\n",
    "# Verify if the copy is successfully executed\n",
    "with open(\"WritingExample2.txt\", \"r\") as testwritefile:\n",
    "    print(testwritefile.read())\n",
    "\n",
    "#example2\n",
    "with open(\"WritingExample3.txt\", \"w\") as Filew3:\n",
    "    #This creates a file Example2.txt in your \n",
    "    #We use the method write to write data into the file\n",
    "    Filew_local=Filew3.write(\"This is line AAAAAAAAAAA which is written by MBJamshidi\\n\")\n",
    "    #The first time it is called we will write: this is line A with a slash n to represent a new line\n",
    "    #The second time we call the method it will write: this is line b\n",
    "    Filew_local=Filew3.write(\"This is line BBBBBBBBBBB which is written by MBJamshidi\\n\")\n",
    "    Filew_local=Filew3.write(\"This is line CCCCCCCCCCC which is written by MBJamshidi\\n\")\n",
    "    Filew_local=Filew3.write(\"This is line DDDDDDDDDDD which is written by MBJamshidi\\n\")\n",
    "    Filew_local=Filew3.write(\"This is line EEEEEEEEEEE which is written by MBJamshidi\\n\")\n",
    "    Filew_local=Filew3.write(\"This is line FFFFFFFFFFF which is written by MBJamshidi\\n\")\n",
    "    Filew_local=Filew3.write(\"This is line GGGGGGGGGGG which is written by MBJamshidi\\n\")\n",
    "\n",
    "    \n",
    "Filew2=open(\"WritingExample2.txt\", \"r\")\n",
    "Filew2.close()\n",
    "          \n",
    "# Verify if the copy is successfully executed                    \n",
    "with open(\"WritingExample3.txt\", \"r\") as testwritefile:\n",
    "    print(testwritefile.read())\n"
   ]
  },
  {
   "cell_type": "code",
   "execution_count": 2,
   "metadata": {},
   "outputs": [
    {
     "name": "stdout",
     "output_type": "stream",
     "text": [
      "This is line AAAAAAkkkkkkThis is line BBBBBBBBkkkkThis is line CCCCCCkkkkThis is lineDDDDDDDkkkk\n",
      "This is line AAAAAAAAAAA which is written by MBJamshidi\n",
      "This is line BBBBBBBBBBB which is written by MBJamshidi\n",
      "This is line CCCCCCCCCCC which is written by MBJamshidi\n",
      "This is line DDDDDDDDDDD which is written by MBJamshidi\n",
      "This is line EEEEEEEEEEE which is written by MBJamshidi\n",
      "This is line FFFFFFFFFFF which is written by MBJamshidi\n",
      "This is line GGGGGGGGGGG which is written by MBJamshidi\n",
      "\n"
     ]
    }
   ],
   "source": [
    "# We can write each element in a list to a file\n",
    "#writing in a line \n",
    "ListW=[\"This is line AAAAAAkkkkkk\",\"This is line BBBBBBBBkkkk\",\"This is line CCCCCCkkkk\", \"This is lineDDDDDDDkkkk\"]\n",
    "with open (\"WritingExample4.txt\", \"w\") as Filew4:\n",
    "    for line in ListW:\n",
    "        Filew4.write(line)\n",
    "        \n",
    "# Verify if the copy is successfully executed\n",
    "with open(\"WritingExample4.txt\", \"r\") as testwritefile:\n",
    "    print(testwritefile.read())\n",
    "\n",
    "# Writing in several lines using \\n\n",
    "ListW=[\"This is line AAAAAAkkkkkk\\nThis is line BBBBBBBBkkkk\\n\",\"This is line CCCCCCkkkk\\n\", \"This is lineDDDDDDDkkkk\\n\"]\n",
    "with open (\"WritingExample5.txt\", \"w\") as Filew5:\n",
    "    for line in ListW:\n",
    "        Filew5.write(line)\n",
    "        \n",
    "# Verify if the copy is successfully executed\n",
    "with open(\"WritingExample3.txt\", \"r\") as testwritefile:\n",
    "    print(testwritefile.read())\n"
   ]
  },
  {
   "cell_type": "code",
   "execution_count": 3,
   "metadata": {},
   "outputs": [
    {
     "name": "stdout",
     "output_type": "stream",
     "text": [
      "This is line BBBBBBBBBBB which is written by MBJamshidi\n",
      "This is line APPENDING BBBBBBB which is written by MBJamshidi\n",
      "This is line APPENDING CCCCCCC is written by MBJamshidi\n",
      "\n"
     ]
    }
   ],
   "source": [
    "#appending\n",
    "#We can set the mode to appended using a lower case \"a\"\n",
    "#This will not create a new file, but just use the existing file\n",
    "with open (\"WritingExample5.txt\", \"a\") as FileA1:\n",
    "    #This will not create a new file, but just use the existing file\n",
    "    #If we call the method write, it will just write to the existing file, then add: \n",
    "    FileA1.write(\" Appending in writing\\n\"*3)\n",
    "    #3 lines coating the statemeant of Appending in writing is appended to the end of pervious content\n",
    "    #then close the file\n",
    "#Example   \n",
    "Filew2=open(\"WritingExample2.txt\", \"a\")\n",
    "Filew2.write(\"This is line APPENDING BBBBBBB which is written by MBJamshidi\\n\")\n",
    "Filew2.write(\"This is line APPENDING CCCCCCC is written by MBJamshidi\\n\")\n",
    "Filew2.close()\n",
    "\n",
    "Filew2=open(\"WritingExample2.txt\", \"r\")\n",
    "Filew2.close\n",
    "# Verify if the copy is successfully executed\n",
    "with open(\"WritingExample2.txt\", \"r\") as testwritefile:\n",
    "    print(testwritefile.read())"
   ]
  }
 ],
 "metadata": {
  "kernelspec": {
   "display_name": "Python 3",
   "language": "python",
   "name": "python3"
  },
  "language_info": {
   "codemirror_mode": {
    "name": "ipython",
    "version": 3
   },
   "file_extension": ".py",
   "mimetype": "text/x-python",
   "name": "python",
   "nbconvert_exporter": "python",
   "pygments_lexer": "ipython3",
   "version": "3.7.6"
  }
 },
 "nbformat": 4,
 "nbformat_minor": 4
}
